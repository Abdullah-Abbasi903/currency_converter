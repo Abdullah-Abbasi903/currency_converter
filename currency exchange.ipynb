{
 "cells": [
  {
   "cell_type": "code",
   "execution_count": 3,
   "id": "c03f8791-8cc0-4d7c-b2fd-c5da8c355c56",
   "metadata": {
    "tags": []
   },
   "outputs": [
    {
     "name": "stdout",
     "output_type": "stream",
     "text": [
      "Collecting tk\n",
      "  Downloading tk-0.1.0-py3-none-any.whl (3.9 kB)\n",
      "Installing collected packages: tk\n",
      "Successfully installed tk-0.1.0\n"
     ]
    }
   ],
   "source": [
    "!pip install tk\n"
   ]
  },
  {
   "cell_type": "code",
   "execution_count": 5,
   "id": "ac4dcea2-3673-4b6d-8200-152ac7231e58",
   "metadata": {
    "tags": []
   },
   "outputs": [],
   "source": [
    "import requests"
   ]
  },
  {
   "cell_type": "code",
   "execution_count": 6,
   "id": "d74e3e80-c3db-421f-a489-116a9f003818",
   "metadata": {
    "tags": []
   },
   "outputs": [],
   "source": [
    "from tkinter import *\n",
    "import requests\n",
    "from tkinter import ttk\n",
    "import tkinter as tk"
   ]
  },
  {
   "cell_type": "code",
   "execution_count": 8,
   "id": "641492a7-0c84-4257-9ff8-06309760fb39",
   "metadata": {
    "tags": []
   },
   "outputs": [],
   "source": [
    "window = tk.Tk()"
   ]
  },
  {
   "cell_type": "code",
   "execution_count": 10,
   "id": "e64f1b47-cf47-4093-bffa-9b9cb27f072f",
   "metadata": {
    "tags": []
   },
   "outputs": [],
   "source": [
    "root = Label(window, text=\"Abbasi currency converter\",font = \"arial 18 bold\",width=60,bg=\"grey\", bd =10,fg=\"black\", relief=RAISED)\n",
    "root.pack(padx=10, pady=10,fill=X)\n"
   ]
  },
  {
   "cell_type": "code",
   "execution_count": 11,
   "id": "11a3bd6c-1619-46ab-a291-75b9941b8b48",
   "metadata": {
    "tags": []
   },
   "outputs": [
    {
     "data": {
      "text/plain": [
       "''"
      ]
     },
     "execution_count": 11,
     "metadata": {},
     "output_type": "execute_result"
    }
   ],
   "source": [
    "window.title(\"Currency Converter\")\n",
    "window.config(bg=\"#202630\")\n",
    "window.geometry(\"400x450\")"
   ]
  },
  {
   "cell_type": "code",
   "execution_count": 14,
   "id": "eaadcef0-aa5e-4af5-a735-a6fddaac2b1f",
   "metadata": {
    "tags": []
   },
   "outputs": [
    {
     "data": {
      "text/plain": [
       "{}"
      ]
     },
     "execution_count": 14,
     "metadata": {},
     "output_type": "execute_result"
    }
   ],
   "source": [
    "style = ttk.Style()\n",
    "style.configure(\"TLabel\", font=(\"Helvetica\", 12), foreground=\"#333\")\n",
    "style.configure(\"TEntry\", font=(\"Helvetica\", 12))\n",
    "style.configure(\"TCombobox\", font=(\"Helvetica\", 12), foreground=\"#333\")\n",
    "style.configure(\"TButton\", font=(\"Helvetica\", 12), foreground=\"#fff\", background=\"#333\")\n",
    "style.map(\"TButton\", foreground=[(\"active\", \"#fff\"), (\"disabled\", \"#ccc\")], background=[(\"active\", \"#333\"), (\"disabled\", \"#ccc\")])"
   ]
  },
  {
   "cell_type": "code",
   "execution_count": 15,
   "id": "5e786fe9-1330-49b3-af2e-a1d3a85a95d2",
   "metadata": {
    "tags": []
   },
   "outputs": [],
   "source": [
    "response = requests.get('https://api.exchangerate-api.com/v4/latest/USD')\n",
    "rates = response.json()['rates']"
   ]
  },
  {
   "cell_type": "code",
   "execution_count": 16,
   "id": "e3852b22-d54e-45f5-a47d-d77f19b4770c",
   "metadata": {
    "tags": []
   },
   "outputs": [],
   "source": [
    "available_currencies = list(rates.keys())"
   ]
  },
  {
   "cell_type": "code",
   "execution_count": 17,
   "id": "2a7310d0-d2a1-4087-a7fa-82347f803f23",
   "metadata": {
    "tags": []
   },
   "outputs": [],
   "source": [
    "amount_label = ttk.Label(window, text=\"Please Enter amount:\")\n",
    "amount_label.pack(pady=20)\n",
    "amount_entry = ttk.Entry(window)\n",
    "amount_entry.pack()"
   ]
  },
  {
   "cell_type": "code",
   "execution_count": 18,
   "id": "7775e828-7223-421a-bcdf-209d9765b195",
   "metadata": {
    "tags": []
   },
   "outputs": [],
   "source": [
    "currency_from_label = ttk.Label(window, text=\"From:\")\n",
    "currency_from_label.pack(pady=10)\n",
    "currency_from_menu = ttk.Combobox(window, values=available_currencies, state=\"readonly\")\n",
    "currency_from_menu.pack()"
   ]
  },
  {
   "cell_type": "code",
   "execution_count": 19,
   "id": "3f50d81a-5c13-4816-a719-c4c71ede55eb",
   "metadata": {
    "tags": []
   },
   "outputs": [],
   "source": [
    "currency_to_label = ttk.Label(window, text=\"To:\")\n",
    "currency_to_label.pack(pady=10)\n",
    "currency_to_menu = ttk.Combobox(window, values=available_currencies, state=\"readonly\")\n",
    "currency_to_menu.pack()\n"
   ]
  },
  {
   "cell_type": "code",
   "execution_count": 20,
   "id": "5041dcf9-6c19-4119-9b03-adb634b0aad6",
   "metadata": {
    "tags": []
   },
   "outputs": [],
   "source": [
    "result_label = ttk.Label(window, text=\"\", style=\"TLabel\")\n",
    "result_label.pack(pady=20)"
   ]
  },
  {
   "cell_type": "code",
   "execution_count": 21,
   "id": "034fe37d-3b43-45df-9019-bbe818968ca8",
   "metadata": {
    "tags": []
   },
   "outputs": [],
   "source": [
    "def currency():\n",
    "    try:\n",
    "        # get the input values\n",
    "        amount = float(amount_entry.get())\n",
    "        currency_from = currency_from_menu.get()\n",
    "        currency_to = currency_to_menu.get()\n",
    "\n",
    "        # convert the currency\n",
    "        result = amount * rates[currency_to] / rates[currency_from]\n",
    "\n",
    "        # update the result label\n",
    "        result_label.configure(text=f\"{amount:.2f} {currency_from} is equal to {result:.2f} {currency_to}\")\n",
    "    except ValueError:\n",
    "        result_label.configure(text=\"Invalid input\")\n"
   ]
  },
  {
   "cell_type": "code",
   "execution_count": 22,
   "id": "23f1bb98-8385-443d-8829-7dea1ac32082",
   "metadata": {
    "tags": []
   },
   "outputs": [],
   "source": [
    "def exp():\n",
    "    exit()"
   ]
  },
  {
   "cell_type": "code",
   "execution_count": 23,
   "id": "db92886c-307d-4a65-863b-8450f4a14d1c",
   "metadata": {
    "tags": []
   },
   "outputs": [],
   "source": [
    "button = tk.Button(window, text=\"PRESS TO CONVERT\", command=currency,fg=\"dark red\",bg='white',bd=10)\n",
    "button.pack(pady=20)"
   ]
  },
  {
   "cell_type": "code",
   "execution_count": 24,
   "id": "669807a6-744f-42dc-9065-265106d50100",
   "metadata": {
    "tags": []
   },
   "outputs": [],
   "source": [
    "but2 = tk.Button(window,text=\"EXIT\",command=exp,fg=\"dark red\",bg='white',bd=10)\n",
    "but2.pack(pady=0)\n"
   ]
  },
  {
   "cell_type": "code",
   "execution_count": 25,
   "id": "30043ba0-cb89-45ea-9077-6f4a5060d019",
   "metadata": {
    "tags": []
   },
   "outputs": [],
   "source": [
    "window.mainloop()"
   ]
  },
  {
   "cell_type": "code",
   "execution_count": null,
   "id": "56aeb424-a61b-44b9-a112-660ecb54c43f",
   "metadata": {},
   "outputs": [],
   "source": []
  }
 ],
 "metadata": {
  "kernelspec": {
   "display_name": "Python 3 (ipykernel)",
   "language": "python",
   "name": "python3"
  },
  "language_info": {
   "codemirror_mode": {
    "name": "ipython",
    "version": 3
   },
   "file_extension": ".py",
   "mimetype": "text/x-python",
   "name": "python",
   "nbconvert_exporter": "python",
   "pygments_lexer": "ipython3",
   "version": "3.11.0"
  }
 },
 "nbformat": 4,
 "nbformat_minor": 5
}
